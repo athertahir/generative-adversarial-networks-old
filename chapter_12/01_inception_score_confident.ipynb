{
  "cells": [
    {
      "cell_type": "code",
      "metadata": {},
      "source": [
        "# calculate inception score in numpy\n",
        "from numpy import asarray\n",
        "from numpy import expand_dims\n",
        "from numpy import log\n",
        "from numpy import mean\n",
        "from numpy import exp\n",
        "\n",
        "# calculate the inception score for p(y|x)\n",
        "def calculate_inception_score(p_yx, eps=1E-16):\n",
        "\t# calculate p(y)\n",
        "\tp_y = expand_dims(p_yx.mean(axis=0), 0)\n",
        "\t# kl divergence for each image\n",
        "\tkl_d = p_yx * (log(p_yx + eps) - log(p_y + eps))\n",
        "\t# sum over classes\n",
        "\tsum_kl_d = kl_d.sum(axis=1)\n",
        "\t# average over images\n",
        "\tavg_kl_d = mean(sum_kl_d)\n",
        "\t# undo the logs\n",
        "\tis_score = exp(avg_kl_d)\n",
        "\treturn is_score\n",
        "\n",
        "# conditional probabilities for high quality images\n",
        "p_yx = asarray([[1.0, 0.0, 0.0], [0.0, 1.0, 0.0], [0.0, 0.0, 1.0]])\n",
        "score = calculate_inception_score(p_yx)\n",
        "print(score)"
      ],
      "outputs": [],
      "execution_count": null
    }
  ],
  "metadata": {
    "anaconda-cloud": {},
    "kernelspec": {
      "display_name": "Python 3",
      "language": "python",
      "name": "python3"
    },
    "language_info": {
      "codemirror_mode": {
        "name": "ipython",
        "version": 3
      },
      "file_extension": ".py",
      "mimetype": "text/x-python",
      "name": "python",
      "nbconvert_exporter": "python",
      "pygments_lexer": "ipython3",
      "version": "3.6.1"
    }
  },
  "nbformat": 4,
  "nbformat_minor": 1
}