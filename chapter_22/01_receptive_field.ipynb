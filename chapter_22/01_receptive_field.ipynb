{
  "cells": [
    {
      "cell_type": "code",
      "metadata": {},
      "source": [
        "# example of calculating the receptive field for the PatchGAN\n",
        "\n",
        "# calculate the effective receptive field size\n",
        "def receptive_field(output_size, kernel_size, stride_size):\n",
        "    return (output_size - 1) * stride_size + kernel_size\n",
        "\n",
        "# output layer 1x1 pixel with 4x4 kernel and 1x1 stride\n",
        "rf = receptive_field(1, 4, 1)\n",
        "print(rf)\n",
        "# second last layer with 4x4 kernel and 1x1 stride\n",
        "rf = receptive_field(rf, 4, 1)\n",
        "print(rf)\n",
        "# 3 PatchGAN layers with 4x4 kernel and 2x2 stride\n",
        "rf = receptive_field(rf, 4, 2)\n",
        "print(rf)\n",
        "rf = receptive_field(rf, 4, 2)\n",
        "print(rf)\n",
        "rf = receptive_field(rf, 4, 2)\n",
        "print(rf)"
      ],
      "outputs": [],
      "execution_count": null
    }
  ],
  "metadata": {
    "anaconda-cloud": {},
    "kernelspec": {
      "display_name": "Python 3",
      "language": "python",
      "name": "python3"
    },
    "language_info": {
      "codemirror_mode": {
        "name": "ipython",
        "version": 3
      },
      "file_extension": ".py",
      "mimetype": "text/x-python",
      "name": "python",
      "nbconvert_exporter": "python",
      "pygments_lexer": "ipython3",
      "version": "3.6.1"
    }
  },
  "nbformat": 4,
  "nbformat_minor": 1
}