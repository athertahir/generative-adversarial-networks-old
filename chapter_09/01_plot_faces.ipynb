{
  "cells": [
    {
      "cell_type": "code",
      "metadata": {},
      "source": [
        "# load and plot faces\n",
        "from os import listdir\n",
        "from numpy import asarray\n",
        "from PIL import Image\n",
        "%matplotlib notebook\n",
        "from matplotlib import pyplot\n",
        "\n",
        "# load an image as an rgb numpy array\n",
        "def load_image(filename):\n",
        "\t# load image from file\n",
        "\timage = Image.open(filename)\n",
        "\t# convert to RGB, if needed\n",
        "\timage = image.convert('RGB')\n",
        "\t# convert to array\n",
        "\tpixels = asarray(image)\n",
        "\treturn pixels\n",
        "\n",
        "# load images and extract faces for all images in a directory\n",
        "def load_faces(directory, n_faces):\n",
        "\tfaces = list()\n",
        "\t# enumerate files\n",
        "\tfor filename in listdir(directory):\n",
        "\t\t# load the image\n",
        "\t\tpixels = load_image(directory + filename)\n",
        "\t\t# store\n",
        "\t\tfaces.append(pixels)\n",
        "\t\t# stop once we have enough\n",
        "\t\tif len(faces) >= n_faces:\n",
        "\t\t\tbreak\n",
        "\treturn asarray(faces)\n",
        "\n",
        "# plot a list of loaded faces\n",
        "def plot_faces(faces, n):\n",
        "\tfor i in range(n * n):\n",
        "\t\t# define subplot\n",
        "\t\tpyplot.subplot(n, n, 1 + i)\n",
        "\t\t# turn off axis\n",
        "\t\tpyplot.axis('off')\n",
        "\t\t# plot raw pixel data\n",
        "\t\tpyplot.imshow(faces[i])\n",
        "\tpyplot.show()\n",
        "\n",
        "# directory that contains all images\n",
        "directory = 'img_align_celeba/'\n",
        "# load and extract all faces\n",
        "faces = load_faces(directory, 25)\n",
        "print('Loaded: ', faces.shape)\n",
        "# plot faces\n",
        "plot_faces(faces, 5)"
      ],
      "outputs": [],
      "execution_count": null
    }
  ],
  "metadata": {
    "anaconda-cloud": {},
    "kernelspec": {
      "display_name": "Python 3",
      "language": "python",
      "name": "python3"
    },
    "language_info": {
      "codemirror_mode": {
        "name": "ipython",
        "version": 3
      },
      "file_extension": ".py",
      "mimetype": "text/x-python",
      "name": "python",
      "nbconvert_exporter": "python",
      "pygments_lexer": "ipython3",
      "version": "3.6.1"
    }
  },
  "nbformat": 4,
  "nbformat_minor": 1
}