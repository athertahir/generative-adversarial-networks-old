{
  "cells": [
    {
      "cell_type": "code",
      "metadata": {},
      "source": [
        "# example of noisy labels\n",
        "from numpy import ones\n",
        "from numpy import zeros\n",
        "from numpy.random import choice\n",
        "\n",
        "# randomly flip some labels\n",
        "def noisy_labels(y, p_flip):\n",
        "\t# determine the number of labels to flip\n",
        "\tn_select = int(p_flip * y.shape[0])\n",
        "\t# choose labels to flip\n",
        "\tflip_ix = choice([i for i in range(y.shape[0])], size=n_select)\n",
        "\t# invert the labels in place\n",
        "\ty[flip_ix] = 1 - y[flip_ix]\n",
        "\treturn y\n",
        "\n",
        "# generate 'real' class labels (1)\n",
        "n_samples = 1000\n",
        "y = ones((n_samples, 1))\n",
        "# flip labels with 5% probability\n",
        "y = noisy_labels(y, 0.05)\n",
        "# summarize labels\n",
        "print(y.sum())\n",
        "\n",
        "# generate 'fake' class labels (0)\n",
        "y = zeros((n_samples, 1))\n",
        "# flip labels with 5% probability\n",
        "y = noisy_labels(y, 0.05)\n",
        "# summarize labels\n",
        "print(y.sum())"
      ],
      "outputs": [],
      "execution_count": null
    }
  ],
  "metadata": {
    "anaconda-cloud": {},
    "kernelspec": {
      "display_name": "Python 3",
      "language": "python",
      "name": "python3"
    },
    "language_info": {
      "codemirror_mode": {
        "name": "ipython",
        "version": 3
      },
      "file_extension": ".py",
      "mimetype": "text/x-python",
      "name": "python",
      "nbconvert_exporter": "python",
      "pygments_lexer": "ipython3",
      "version": "3.6.1"
    }
  },
  "nbformat": 4,
  "nbformat_minor": 1
}