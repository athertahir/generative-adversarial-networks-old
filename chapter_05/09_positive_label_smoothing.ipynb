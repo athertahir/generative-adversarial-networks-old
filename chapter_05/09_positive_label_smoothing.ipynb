{
  "cells": [
    {
      "cell_type": "code",
      "metadata": {},
      "source": [
        "# example of positive label smoothing\n",
        "from numpy import ones\n",
        "from numpy.random import random\n",
        "\n",
        "# example of smoothing class=1 to [0.7, 1.2]\n",
        "def smooth_positive_labels(y):\n",
        "\treturn y - 0.3 + (random(y.shape) * 0.5)\n",
        "\n",
        "# generate 'real' class labels (1)\n",
        "n_samples = 1000\n",
        "y = ones((n_samples, 1))\n",
        "# smooth labels\n",
        "y = smooth_positive_labels(y)\n",
        "# summarize smooth labels\n",
        "print(y.shape, y.min(), y.max())"
      ],
      "outputs": [],
      "execution_count": null
    }
  ],
  "metadata": {
    "anaconda-cloud": {},
    "kernelspec": {
      "display_name": "Python 3",
      "language": "python",
      "name": "python3"
    },
    "language_info": {
      "codemirror_mode": {
        "name": "ipython",
        "version": 3
      },
      "file_extension": ".py",
      "mimetype": "text/x-python",
      "name": "python",
      "nbconvert_exporter": "python",
      "pygments_lexer": "ipython3",
      "version": "3.6.1"
    }
  },
  "nbformat": 4,
  "nbformat_minor": 1
}