{
  "cells": [
    {
      "cell_type": "code",
      "metadata": {},
      "source": [
        "# example of sampling from a gaussian latent space\n",
        "from numpy.random import randn\n",
        "\n",
        "# generate points in latent space as input for the generator\n",
        "def generate_latent_points(latent_dim, n_samples):\n",
        "\t# generate points in the latent space\n",
        "\tx_input = randn(latent_dim * n_samples)\n",
        "\t# reshape into a batch of inputs for the network\n",
        "\tx_input = x_input.reshape((n_samples, latent_dim))\n",
        "\treturn x_input\n",
        "\n",
        "# size of latent space\n",
        "n_dim = 100\n",
        "# number of samples to generate\n",
        "n_samples = 500\n",
        "# generate samples\n",
        "samples = generate_latent_points(n_dim, n_samples)\n",
        "# summarize\n",
        "print(samples.shape, samples.mean(), samples.std())"
      ],
      "outputs": [],
      "execution_count": null
    }
  ],
  "metadata": {
    "anaconda-cloud": {},
    "kernelspec": {
      "display_name": "Python 3",
      "language": "python",
      "name": "python3"
    },
    "language_info": {
      "codemirror_mode": {
        "name": "ipython",
        "version": 3
      },
      "file_extension": ".py",
      "mimetype": "text/x-python",
      "name": "python",
      "nbconvert_exporter": "python",
      "pygments_lexer": "ipython3",
      "version": "3.6.1"
    }
  },
  "nbformat": 4,
  "nbformat_minor": 1
}