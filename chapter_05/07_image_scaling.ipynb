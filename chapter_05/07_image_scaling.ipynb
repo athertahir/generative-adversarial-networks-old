{
  "cells": [
    {
      "cell_type": "code",
      "metadata": {},
      "source": [
        "# example of a function for scaling images\n",
        "from numpy.random import randint\n",
        "\n",
        "# scale image data from [0,255] to [-1,1]\n",
        "def scale_images(images):\n",
        "\t# convert from unit8 to float32\n",
        "\timages = images.astype('float32')\n",
        "\t# scale from [0,255] to [-1,1]\n",
        "\timages = (images - 127.5) / 127.5\n",
        "\treturn images\n",
        "\n",
        "# define one 28x28 color image\n",
        "images = randint(0, 256, 28 * 28 * 3)\n",
        "images = images.reshape((1, 28, 28, 3))\n",
        "# summarize pixel values\n",
        "print(images.min(), images.max())\n",
        "# scale\n",
        "scaled = scale_images(images)\n",
        "# summarize pixel scaled values\n",
        "print(scaled.min(), scaled.max())"
      ],
      "outputs": [],
      "execution_count": null
    }
  ],
  "metadata": {
    "anaconda-cloud": {},
    "kernelspec": {
      "display_name": "Python 3",
      "language": "python",
      "name": "python3"
    },
    "language_info": {
      "codemirror_mode": {
        "name": "ipython",
        "version": 3
      },
      "file_extension": ".py",
      "mimetype": "text/x-python",
      "name": "python",
      "nbconvert_exporter": "python",
      "pygments_lexer": "ipython3",
      "version": "3.6.1"
    }
  },
  "nbformat": 4,
  "nbformat_minor": 1
}