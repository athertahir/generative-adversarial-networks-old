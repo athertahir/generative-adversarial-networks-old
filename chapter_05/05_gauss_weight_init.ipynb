{
  "cells": [
    {
      "cell_type": "code",
      "metadata": {},
      "source": [
        "# example of gaussian weight initialization in a generator model\n",
        "from keras.models import Sequential\n",
        "from keras.layers import Conv2DTranspose\n",
        "from keras.initializers import RandomNormal\n",
        "# define model\n",
        "model = Sequential()\n",
        "init = RandomNormal(mean=0.0, stddev=0.02)\n",
        "model.add(Conv2DTranspose(64, (4,4), strides=(2,2), padding='same', kernel_initializer=init, input_shape=(64,64,3)))"
      ],
      "outputs": [],
      "execution_count": null
    }
  ],
  "metadata": {
    "anaconda-cloud": {},
    "kernelspec": {
      "display_name": "Python 3",
      "language": "python",
      "name": "python3"
    },
    "language_info": {
      "codemirror_mode": {
        "name": "ipython",
        "version": 3
      },
      "file_extension": ".py",
      "mimetype": "text/x-python",
      "name": "python",
      "nbconvert_exporter": "python",
      "pygments_lexer": "ipython3",
      "version": "3.6.1"
    }
  },
  "nbformat": 4,
  "nbformat_minor": 1
}