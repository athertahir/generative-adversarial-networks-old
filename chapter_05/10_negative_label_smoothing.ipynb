{
  "cells": [
    {
      "cell_type": "code",
      "metadata": {},
      "source": [
        "# example of negative label smoothing\n",
        "from numpy import zeros\n",
        "from numpy.random import random\n",
        "\n",
        "# example of smoothing class=0 to [0.0, 0.3]\n",
        "def smooth_negative_labels(y):\n",
        "\treturn y + random(y.shape) * 0.3\n",
        "\n",
        "# generate 'fake' class labels (0)\n",
        "n_samples = 1000\n",
        "y = zeros((n_samples, 1))\n",
        "# smooth labels\n",
        "y = smooth_negative_labels(y)\n",
        "# summarize smooth labels\n",
        "print(y.shape, y.min(), y.max())"
      ],
      "outputs": [],
      "execution_count": null
    }
  ],
  "metadata": {
    "anaconda-cloud": {},
    "kernelspec": {
      "display_name": "Python 3",
      "language": "python",
      "name": "python3"
    },
    "language_info": {
      "codemirror_mode": {
        "name": "ipython",
        "version": 3
      },
      "file_extension": ".py",
      "mimetype": "text/x-python",
      "name": "python",
      "nbconvert_exporter": "python",
      "pygments_lexer": "ipython3",
      "version": "3.6.1"
    }
  },
  "nbformat": 4,
  "nbformat_minor": 1
}