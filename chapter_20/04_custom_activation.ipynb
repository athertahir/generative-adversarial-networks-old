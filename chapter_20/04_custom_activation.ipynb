{
  "cells": [
    {
      "cell_type": "code",
      "metadata": {},
      "source": [
        "# example of custom activation function\n",
        "import numpy as np\n",
        "\n",
        "# custom activation function\n",
        "def custom_activation(output):\n",
        "\tlogexpsum = np.sum(np.exp(output))\n",
        "\tresult = logexpsum / (logexpsum + 1.0)\n",
        "\treturn result\n",
        "\n",
        "# all -10s\n",
        "output = np.asarray([-10.0, -10.0, -10.0])\n",
        "print(custom_activation(output))\n",
        "# all -1s\n",
        "output = np.asarray([-1.0, -1.0, -1.0])\n",
        "print(custom_activation(output))\n",
        "# all 0s\n",
        "output = np.asarray([0.0, 0.0, 0.0])\n",
        "print(custom_activation(output))\n",
        "# all 1s\n",
        "output = np.asarray([1.0, 1.0, 1.0])\n",
        "print(custom_activation(output))\n",
        "# all 10s\n",
        "output = np.asarray([10.0, 10.0, 10.0])\n",
        "print(custom_activation(output))"
      ],
      "outputs": [],
      "execution_count": null
    }
  ],
  "metadata": {
    "anaconda-cloud": {},
    "kernelspec": {
      "display_name": "Python 3",
      "language": "python",
      "name": "python3"
    },
    "language_info": {
      "codemirror_mode": {
        "name": "ipython",
        "version": 3
      },
      "file_extension": ".py",
      "mimetype": "text/x-python",
      "name": "python",
      "nbconvert_exporter": "python",
      "pygments_lexer": "ipython3",
      "version": "3.6.1"
    }
  },
  "nbformat": 4,
  "nbformat_minor": 1
}