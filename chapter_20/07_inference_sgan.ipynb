{
  "cells": [
    {
      "cell_type": "code",
      "metadata": {},
      "source": [
        "# example of loading the classifier model and generating images\n",
        "from numpy import expand_dims\n",
        "from keras.models import load_model\n",
        "from keras.datasets.mnist import load_data\n",
        "# load the model\n",
        "model = load_model('c_model_7200.h5')\n",
        "# load the dataset\n",
        "(trainX, trainy), (testX, testy) = load_data()\n",
        "# expand to 3d, e.g. add channels\n",
        "trainX = expand_dims(trainX, axis=-1)\n",
        "testX = expand_dims(testX, axis=-1)\n",
        "# convert from ints to floats\n",
        "trainX = trainX.astype('float32')\n",
        "testX = testX.astype('float32')\n",
        "# scale from [0,255] to [-1,1]\n",
        "trainX = (trainX - 127.5) / 127.5\n",
        "testX = (testX - 127.5) / 127.5\n",
        "# evaluate the model\n",
        "_, train_acc = model.evaluate(trainX, trainy, verbose=0)\n",
        "print('Train Accuracy: %.3f%%' % (train_acc * 100))\n",
        "_, test_acc = model.evaluate(testX, testy, verbose=0)\n",
        "print('Test Accuracy: %.3f%%' % (test_acc * 100))"
      ],
      "outputs": [],
      "execution_count": null
    }
  ],
  "metadata": {
    "anaconda-cloud": {},
    "kernelspec": {
      "display_name": "Python 3",
      "language": "python",
      "name": "python3"
    },
    "language_info": {
      "codemirror_mode": {
        "name": "ipython",
        "version": 3
      },
      "file_extension": ".py",
      "mimetype": "text/x-python",
      "name": "python",
      "nbconvert_exporter": "python",
      "pygments_lexer": "ipython3",
      "version": "3.6.1"
    }
  },
  "nbformat": 4,
  "nbformat_minor": 1
}