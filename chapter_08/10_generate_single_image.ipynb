{
  "cells": [
    {
      "cell_type": "code",
      "metadata": {},
      "source": [
        "# example of generating an image for a specific point in the latent space\n",
        "from keras.models import load_model\n",
        "from numpy import asarray\n",
        "%matplotlib notebook
from matplotlib import pyplot\n",
        "# load model\n",
        "model = load_model('generator_model_200.h5')\n",
        "# all 0s\n",
        "vector = asarray([[0.75 for _ in range(100)]])\n",
        "# generate image\n",
        "X = model.predict(vector)\n",
        "# scale from [-1,1] to [0,1]\n",
        "X = (X + 1) / 2.0\n",
        "# plot the result\n",
        "pyplot.imshow(X[0, :, :])\n",
        "pyplot.show()"
      ],
      "outputs": [],
      "execution_count": null
    }
  ],
  "metadata": {
    "anaconda-cloud": {},
    "kernelspec": {
      "display_name": "Python 3",
      "language": "python",
      "name": "python3"
    },
    "language_info": {
      "codemirror_mode": {
        "name": "ipython",
        "version": 3
      },
      "file_extension": ".py",
      "mimetype": "text/x-python",
      "name": "python",
      "nbconvert_exporter": "python",
      "pygments_lexer": "ipython3",
      "version": "3.6.1"
    }
  },
  "nbformat": 4,
  "nbformat_minor": 1
}