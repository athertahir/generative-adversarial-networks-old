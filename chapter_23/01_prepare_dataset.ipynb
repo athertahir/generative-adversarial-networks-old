{
  "cells": [
    {
      "cell_type": "code",
      "metadata": {},
      "source": [
        "# load, split and scale the maps dataset ready for training\n",
        "from os import listdir\n",
        "from numpy import asarray\n",
        "from keras.preprocessing.image import img_to_array\n",
        "from keras.preprocessing.image import load_img\n",
        "from numpy import savez_compressed\n",
        "\n",
        "# load all images in a directory into memory\n",
        "def load_images(path, size=(256,512)):\n",
        "\tsrc_list, tar_list = list(), list()\n",
        "\t# enumerate filenames in directory, assume all are images\n",
        "\tfor filename in listdir(path):\n",
        "\t\t# load and resize the image\n",
        "\t\tpixels = load_img(path + filename, target_size=size)\n",
        "\t\t# convert to numpy array\n",
        "\t\tpixels = img_to_array(pixels)\n",
        "\t\t# split into satellite and map\n",
        "\t\tsat_img, map_img = pixels[:, :256], pixels[:, 256:]\n",
        "\t\tsrc_list.append(sat_img)\n",
        "\t\ttar_list.append(map_img)\n",
        "\treturn [asarray(src_list), asarray(tar_list)]\n",
        "\n",
        "# dataset path\n",
        "path = 'maps/train/'\n",
        "# load dataset\n",
        "[src_images, tar_images] = load_images(path)\n",
        "print('Loaded: ', src_images.shape, tar_images.shape)\n",
        "# save as compressed numpy array\n",
        "filename = 'maps_256.npz'\n",
        "savez_compressed(filename, src_images, tar_images)\n",
        "print('Saved dataset: ', filename)"
      ],
      "outputs": [],
      "execution_count": null
    }
  ],
  "metadata": {
    "anaconda-cloud": {},
    "kernelspec": {
      "display_name": "Python 3",
      "language": "python",
      "name": "python3"
    },
    "language_info": {
      "codemirror_mode": {
        "name": "ipython",
        "version": 3
      },
      "file_extension": ".py",
      "mimetype": "text/x-python",
      "name": "python",
      "nbconvert_exporter": "python",
      "pygments_lexer": "ipython3",
      "version": "3.6.1"
    }
  },
  "nbformat": 4,
  "nbformat_minor": 1
}