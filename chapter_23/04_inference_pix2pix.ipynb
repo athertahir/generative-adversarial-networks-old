{
  "cells": [
    {
      "cell_type": "code",
      "metadata": {},
      "source": [
        "# example of loading a pix2pix model and using it for image to image translation\n",
        "from keras.models import load_model\n",
        "from numpy import load\n",
        "from numpy import vstack\n",
        "%matplotlib notebook
from matplotlib import pyplot\n",
        "from numpy.random import randint\n",
        "\n",
        "# load and prepare training images\n",
        "def load_real_samples(filename):\n",
        "\t# load the compressed arrays\n",
        "\tdata = load(filename)\n",
        "\t# unpack the arrays\n",
        "\tX1, X2 = data['arr_0'], data['arr_1']\n",
        "\t# scale from [0,255] to [-1,1]\n",
        "\tX1 = (X1 - 127.5) / 127.5\n",
        "\tX2 = (X2 - 127.5) / 127.5\n",
        "\treturn [X1, X2]\n",
        "\n",
        "# plot source, generated and target images\n",
        "def plot_images(src_img, gen_img, tar_img):\n",
        "\timages = vstack((src_img, gen_img, tar_img))\n",
        "\t# scale from [-1,1] to [0,1]\n",
        "\timages = (images + 1) / 2.0\n",
        "\ttitles = ['Source', 'Generated', 'Expected']\n",
        "\t# plot images row by row\n",
        "\tfor i in range(len(images)):\n",
        "\t\t# define subplot\n",
        "\t\tpyplot.subplot(1, 3, 1 + i)\n",
        "\t\t# turn off axis\n",
        "\t\tpyplot.axis('off')\n",
        "\t\t# plot raw pixel data\n",
        "\t\tpyplot.imshow(images[i])\n",
        "\t\t# show title\n",
        "\t\tpyplot.title(titles[i])\n",
        "\tpyplot.show()\n",
        "\n",
        "# load dataset\n",
        "[X1, X2] = load_real_samples('maps_256.npz')\n",
        "print('Loaded', X1.shape, X2.shape)\n",
        "# load model\n",
        "model = load_model('model_109600.h5')\n",
        "# select random example\n",
        "ix = randint(0, len(X1), 1)\n",
        "src_image, tar_image = X1[ix], X2[ix]\n",
        "# generate image from source\n",
        "gen_image = model.predict(src_image)\n",
        "# plot all three images\n",
        "plot_images(src_image, gen_image, tar_image)"
      ],
      "outputs": [],
      "execution_count": null
    }
  ],
  "metadata": {
    "anaconda-cloud": {},
    "kernelspec": {
      "display_name": "Python 3",
      "language": "python",
      "name": "python3"
    },
    "language_info": {
      "codemirror_mode": {
        "name": "ipython",
        "version": 3
      },
      "file_extension": ".py",
      "mimetype": "text/x-python",
      "name": "python",
      "nbconvert_exporter": "python",
      "pygments_lexer": "ipython3",
      "version": "3.6.1"
    }
  },
  "nbformat": 4,
  "nbformat_minor": 1
}