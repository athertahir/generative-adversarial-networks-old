{
  "cells": [
    {
      "cell_type": "code",
      "metadata": {},
      "source": [
        "# demonstrate simple x^2 function\n",
        "%matplotlib notebook\n",
        "from matplotlib import pyplot\n",
        "\n",
        "# simple function\n",
        "def calculate(x):\n",
        "\treturn x * x\n",
        "\n",
        "# define inputs\n",
        "inputs = [-0.5, -0.4, -0.3, -0.2, -0.1, 0, 0.1, 0.2, 0.3, 0.4, 0.5]\n",
        "# calculate outputs\n",
        "outputs = [calculate(x) for x in inputs]\n",
        "# plot the result\n",
        "pyplot.plot(inputs, outputs)\n",
        "pyplot.show()"
      ],
      "outputs": [],
      "execution_count": null
    }
  ],
  "metadata": {
    "anaconda-cloud": {},
    "kernelspec": {
      "display_name": "Python 3",
      "language": "python",
      "name": "python3"
    },
    "language_info": {
      "codemirror_mode": {
        "name": "ipython",
        "version": 3
      },
      "file_extension": ".py",
      "mimetype": "text/x-python",
      "name": "python",
      "nbconvert_exporter": "python",
      "pygments_lexer": "ipython3",
      "version": "3.6.1"
    }
  },
  "nbformat": 4,
  "nbformat_minor": 1
}