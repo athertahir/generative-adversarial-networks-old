{
  "cells": [
    {
      "cell_type": "code",
      "metadata": {},
      "source": [
        "# example of generating random samples from X^2\n",
        "from numpy.random import rand\n",
        "from numpy import hstack\n",
        "%matplotlib notebook\n",
        "from matplotlib import pyplot\n",
        "\n",
        "# generate randoms sample from x^2\n",
        "def generate_samples(n=100):\n",
        "\t# generate random inputs in [-0.5, 0.5]\n",
        "\tX1 = rand(n) - 0.5\n",
        "\t# generate outputs X^2 (quadratic)\n",
        "\tX2 = X1 * X1\n",
        "\t# stack arrays\n",
        "\tX1 = X1.reshape(n, 1)\n",
        "\tX2 = X2.reshape(n, 1)\n",
        "\treturn hstack((X1, X2))\n",
        "\n",
        "# generate samples\n",
        "data = generate_samples()\n",
        "# plot samples\n",
        "pyplot.scatter(data[:, 0], data[:, 1])\n",
        "pyplot.show()"
      ],
      "outputs": [],
      "execution_count": null
    }
  ],
  "metadata": {
    "anaconda-cloud": {},
    "kernelspec": {
      "display_name": "Python 3",
      "language": "python",
      "name": "python3"
    },
    "language_info": {
      "codemirror_mode": {
        "name": "ipython",
        "version": 3
      },
      "file_extension": ".py",
      "mimetype": "text/x-python",
      "name": "python",
      "nbconvert_exporter": "python",
      "pygments_lexer": "ipython3",
      "version": "3.6.1"
    }
  },
  "nbformat": 4,
  "nbformat_minor": 1
}