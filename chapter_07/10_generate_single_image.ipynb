{
  "cells": [
    {
      "cell_type": "code",
      "metadata": {},
      "source": [
        "# example of generating an image for a specific point in the latent space\n",
        "from keras.models import load_model\n",
        "from numpy import asarray\n",
        "%matplotlib notebook\n",
        "from matplotlib import pyplot\n",
        "# load model\n",
        "model = load_model('generator_model_100.h5')\n",
        "# all 0s\n",
        "vector = asarray([[0.0 for _ in range(100)]])\n",
        "# generate image\n",
        "X = model.predict(vector)\n",
        "# plot the result\n",
        "pyplot.imshow(X[0, :, :, 0], cmap='gray_r')\n",
        "pyplot.show()"
      ],
      "outputs": [],
      "execution_count": null
    }
  ],
  "metadata": {
    "anaconda-cloud": {},
    "kernelspec": {
      "display_name": "Python 3",
      "language": "python",
      "name": "python3"
    },
    "language_info": {
      "codemirror_mode": {
        "name": "ipython",
        "version": 3
      },
      "file_extension": ".py",
      "mimetype": "text/x-python",
      "name": "python",
      "nbconvert_exporter": "python",
      "pygments_lexer": "ipython3",
      "version": "3.6.1"
    }
  },
  "nbformat": 4,
  "nbformat_minor": 1
}